{
 "cells": [
  {
   "cell_type": "code",
   "execution_count": 1,
   "id": "bf769e11-c86e-4770-9371-d2edcef1b17b",
   "metadata": {},
   "outputs": [
    {
     "ename": "JSONDecodeError",
     "evalue": "Expecting value: line 1 column 1 (char 0)",
     "output_type": "error",
     "traceback": [
      "\u001b[1;31m---------------------------------------------------------------------------\u001b[0m",
      "\u001b[1;31mJSONDecodeError\u001b[0m                           Traceback (most recent call last)",
      "File \u001b[1;32m~\\anaconda3\\Lib\\site-packages\\requests\\models.py:974\u001b[0m, in \u001b[0;36mResponse.json\u001b[1;34m(self, **kwargs)\u001b[0m\n\u001b[0;32m    973\u001b[0m \u001b[38;5;28;01mtry\u001b[39;00m:\n\u001b[1;32m--> 974\u001b[0m     \u001b[38;5;28;01mreturn\u001b[39;00m complexjson\u001b[38;5;241m.\u001b[39mloads(\u001b[38;5;28mself\u001b[39m\u001b[38;5;241m.\u001b[39mtext, \u001b[38;5;241m*\u001b[39m\u001b[38;5;241m*\u001b[39mkwargs)\n\u001b[0;32m    975\u001b[0m \u001b[38;5;28;01mexcept\u001b[39;00m JSONDecodeError \u001b[38;5;28;01mas\u001b[39;00m e:\n\u001b[0;32m    976\u001b[0m     \u001b[38;5;66;03m# Catch JSON-related errors and raise as requests.JSONDecodeError\u001b[39;00m\n\u001b[0;32m    977\u001b[0m     \u001b[38;5;66;03m# This aliases json.JSONDecodeError and simplejson.JSONDecodeError\u001b[39;00m\n",
      "File \u001b[1;32m~\\anaconda3\\Lib\\json\\__init__.py:346\u001b[0m, in \u001b[0;36mloads\u001b[1;34m(s, cls, object_hook, parse_float, parse_int, parse_constant, object_pairs_hook, **kw)\u001b[0m\n\u001b[0;32m    343\u001b[0m \u001b[38;5;28;01mif\u001b[39;00m (\u001b[38;5;28mcls\u001b[39m \u001b[38;5;129;01mis\u001b[39;00m \u001b[38;5;28;01mNone\u001b[39;00m \u001b[38;5;129;01mand\u001b[39;00m object_hook \u001b[38;5;129;01mis\u001b[39;00m \u001b[38;5;28;01mNone\u001b[39;00m \u001b[38;5;129;01mand\u001b[39;00m\n\u001b[0;32m    344\u001b[0m         parse_int \u001b[38;5;129;01mis\u001b[39;00m \u001b[38;5;28;01mNone\u001b[39;00m \u001b[38;5;129;01mand\u001b[39;00m parse_float \u001b[38;5;129;01mis\u001b[39;00m \u001b[38;5;28;01mNone\u001b[39;00m \u001b[38;5;129;01mand\u001b[39;00m\n\u001b[0;32m    345\u001b[0m         parse_constant \u001b[38;5;129;01mis\u001b[39;00m \u001b[38;5;28;01mNone\u001b[39;00m \u001b[38;5;129;01mand\u001b[39;00m object_pairs_hook \u001b[38;5;129;01mis\u001b[39;00m \u001b[38;5;28;01mNone\u001b[39;00m \u001b[38;5;129;01mand\u001b[39;00m \u001b[38;5;129;01mnot\u001b[39;00m kw):\n\u001b[1;32m--> 346\u001b[0m     \u001b[38;5;28;01mreturn\u001b[39;00m _default_decoder\u001b[38;5;241m.\u001b[39mdecode(s)\n\u001b[0;32m    347\u001b[0m \u001b[38;5;28;01mif\u001b[39;00m \u001b[38;5;28mcls\u001b[39m \u001b[38;5;129;01mis\u001b[39;00m \u001b[38;5;28;01mNone\u001b[39;00m:\n",
      "File \u001b[1;32m~\\anaconda3\\Lib\\json\\decoder.py:337\u001b[0m, in \u001b[0;36mJSONDecoder.decode\u001b[1;34m(self, s, _w)\u001b[0m\n\u001b[0;32m    333\u001b[0m \u001b[38;5;250m\u001b[39m\u001b[38;5;124;03m\"\"\"Return the Python representation of ``s`` (a ``str`` instance\u001b[39;00m\n\u001b[0;32m    334\u001b[0m \u001b[38;5;124;03mcontaining a JSON document).\u001b[39;00m\n\u001b[0;32m    335\u001b[0m \n\u001b[0;32m    336\u001b[0m \u001b[38;5;124;03m\"\"\"\u001b[39;00m\n\u001b[1;32m--> 337\u001b[0m obj, end \u001b[38;5;241m=\u001b[39m \u001b[38;5;28mself\u001b[39m\u001b[38;5;241m.\u001b[39mraw_decode(s, idx\u001b[38;5;241m=\u001b[39m_w(s, \u001b[38;5;241m0\u001b[39m)\u001b[38;5;241m.\u001b[39mend())\n\u001b[0;32m    338\u001b[0m end \u001b[38;5;241m=\u001b[39m _w(s, end)\u001b[38;5;241m.\u001b[39mend()\n",
      "File \u001b[1;32m~\\anaconda3\\Lib\\json\\decoder.py:355\u001b[0m, in \u001b[0;36mJSONDecoder.raw_decode\u001b[1;34m(self, s, idx)\u001b[0m\n\u001b[0;32m    354\u001b[0m \u001b[38;5;28;01mexcept\u001b[39;00m \u001b[38;5;167;01mStopIteration\u001b[39;00m \u001b[38;5;28;01mas\u001b[39;00m err:\n\u001b[1;32m--> 355\u001b[0m     \u001b[38;5;28;01mraise\u001b[39;00m JSONDecodeError(\u001b[38;5;124m\"\u001b[39m\u001b[38;5;124mExpecting value\u001b[39m\u001b[38;5;124m\"\u001b[39m, s, err\u001b[38;5;241m.\u001b[39mvalue) \u001b[38;5;28;01mfrom\u001b[39;00m \u001b[38;5;28;01mNone\u001b[39;00m\n\u001b[0;32m    356\u001b[0m \u001b[38;5;28;01mreturn\u001b[39;00m obj, end\n",
      "\u001b[1;31mJSONDecodeError\u001b[0m: Expecting value: line 1 column 1 (char 0)",
      "\nDuring handling of the above exception, another exception occurred:\n",
      "\u001b[1;31mJSONDecodeError\u001b[0m                           Traceback (most recent call last)",
      "Cell \u001b[1;32mIn[1], line 22\u001b[0m\n\u001b[0;32m     20\u001b[0m \u001b[38;5;66;03m# Check if the response is successful (status code 200)\u001b[39;00m\n\u001b[0;32m     21\u001b[0m \u001b[38;5;28;01mif\u001b[39;00m response\u001b[38;5;241m.\u001b[39mstatus_code \u001b[38;5;241m==\u001b[39m \u001b[38;5;241m200\u001b[39m:\n\u001b[1;32m---> 22\u001b[0m     data \u001b[38;5;241m=\u001b[39m response\u001b[38;5;241m.\u001b[39mjson()\n\u001b[0;32m     24\u001b[0m     \u001b[38;5;66;03m# Convert the response to a pandas DataFrame\u001b[39;00m\n\u001b[0;32m     25\u001b[0m     df \u001b[38;5;241m=\u001b[39m pd\u001b[38;5;241m.\u001b[39mDataFrame(data)\n",
      "File \u001b[1;32m~\\anaconda3\\Lib\\site-packages\\requests\\models.py:978\u001b[0m, in \u001b[0;36mResponse.json\u001b[1;34m(self, **kwargs)\u001b[0m\n\u001b[0;32m    974\u001b[0m     \u001b[38;5;28;01mreturn\u001b[39;00m complexjson\u001b[38;5;241m.\u001b[39mloads(\u001b[38;5;28mself\u001b[39m\u001b[38;5;241m.\u001b[39mtext, \u001b[38;5;241m*\u001b[39m\u001b[38;5;241m*\u001b[39mkwargs)\n\u001b[0;32m    975\u001b[0m \u001b[38;5;28;01mexcept\u001b[39;00m JSONDecodeError \u001b[38;5;28;01mas\u001b[39;00m e:\n\u001b[0;32m    976\u001b[0m     \u001b[38;5;66;03m# Catch JSON-related errors and raise as requests.JSONDecodeError\u001b[39;00m\n\u001b[0;32m    977\u001b[0m     \u001b[38;5;66;03m# This aliases json.JSONDecodeError and simplejson.JSONDecodeError\u001b[39;00m\n\u001b[1;32m--> 978\u001b[0m     \u001b[38;5;28;01mraise\u001b[39;00m RequestsJSONDecodeError(e\u001b[38;5;241m.\u001b[39mmsg, e\u001b[38;5;241m.\u001b[39mdoc, e\u001b[38;5;241m.\u001b[39mpos)\n",
      "\u001b[1;31mJSONDecodeError\u001b[0m: Expecting value: line 1 column 1 (char 0)"
     ]
    }
   ],
   "source": [
    "import requests\n",
    "import pandas as pd\n",
    "\n",
    "# USITC DataWeb API URL\n",
    "api_url = \"https://dataweb.usitc.gov/api/v1/data\"\n",
    "\n",
    "# Example parameters to get tariff data (ensure these are valid based on the USITC API docs)\n",
    "params = {\n",
    "    \"get\": \"TradeData\",\n",
    "    \"time\": \"2000-2020\",  # Example: Fetch data from 2000 to 2020\n",
    "    \"reporter\": \"USA\",  # US as the reporting country\n",
    "    \"partner\": \"WORLD\",  # World as the trade partner\n",
    "    \"measure\": \"DUTY\",  # Tariff Measure\n",
    "    \"format\": \"json\"  # Request data in JSON format\n",
    "}\n",
    "\n",
    "# Send GET request to fetch data from USITC\n",
    "response = requests.get(api_url, params=params)\n",
    "\n",
    "# Check if the response is successful (status code 200)\n",
    "if response.status_code == 200:\n",
    "    data = response.json()\n",
    "    \n",
    "    # Convert the response to a pandas DataFrame\n",
    "    df = pd.DataFrame(data)\n",
    "    \n",
    "    # Display the first few rows of data\n",
    "    print(df.head())\n",
    "\n",
    "    # Example of calculating Effective Tariff Rate (ETR)\n",
    "    # Assuming we have the columns 'TariffRevenue' and 'ImportValue'\n",
    "    \n",
    "    # Calculate ETR for each row in the dataframe\n",
    "    df['ETR'] = (df['TariffRevenue'] / df['ImportValue']) * 100\n",
    "    \n",
    "    # Display results\n",
    "    print(df[['Year', 'TariffRevenue', 'ImportValue', 'ETR']].head())\n",
    "\n",
    "else:\n",
    "    print(f\"Error: {response.status_code} - {response.text}\")\n"
   ]
  },
  {
   "cell_type": "code",
   "execution_count": 15,
   "id": "0ad43d52-525e-4132-b8f6-5fb86ea848fb",
   "metadata": {},
   "outputs": [
    {
     "ename": "JSONDecodeError",
     "evalue": "Expecting value: line 1 column 1 (char 0)",
     "output_type": "error",
     "traceback": [
      "\u001b[1;31m---------------------------------------------------------------------------\u001b[0m",
      "\u001b[1;31mJSONDecodeError\u001b[0m                           Traceback (most recent call last)",
      "File \u001b[1;32m~\\anaconda3\\Lib\\site-packages\\requests\\models.py:974\u001b[0m, in \u001b[0;36mResponse.json\u001b[1;34m(self, **kwargs)\u001b[0m\n\u001b[0;32m    973\u001b[0m \u001b[38;5;28;01mtry\u001b[39;00m:\n\u001b[1;32m--> 974\u001b[0m     \u001b[38;5;28;01mreturn\u001b[39;00m complexjson\u001b[38;5;241m.\u001b[39mloads(\u001b[38;5;28mself\u001b[39m\u001b[38;5;241m.\u001b[39mtext, \u001b[38;5;241m*\u001b[39m\u001b[38;5;241m*\u001b[39mkwargs)\n\u001b[0;32m    975\u001b[0m \u001b[38;5;28;01mexcept\u001b[39;00m JSONDecodeError \u001b[38;5;28;01mas\u001b[39;00m e:\n\u001b[0;32m    976\u001b[0m     \u001b[38;5;66;03m# Catch JSON-related errors and raise as requests.JSONDecodeError\u001b[39;00m\n\u001b[0;32m    977\u001b[0m     \u001b[38;5;66;03m# This aliases json.JSONDecodeError and simplejson.JSONDecodeError\u001b[39;00m\n",
      "File \u001b[1;32m~\\anaconda3\\Lib\\json\\__init__.py:346\u001b[0m, in \u001b[0;36mloads\u001b[1;34m(s, cls, object_hook, parse_float, parse_int, parse_constant, object_pairs_hook, **kw)\u001b[0m\n\u001b[0;32m    343\u001b[0m \u001b[38;5;28;01mif\u001b[39;00m (\u001b[38;5;28mcls\u001b[39m \u001b[38;5;129;01mis\u001b[39;00m \u001b[38;5;28;01mNone\u001b[39;00m \u001b[38;5;129;01mand\u001b[39;00m object_hook \u001b[38;5;129;01mis\u001b[39;00m \u001b[38;5;28;01mNone\u001b[39;00m \u001b[38;5;129;01mand\u001b[39;00m\n\u001b[0;32m    344\u001b[0m         parse_int \u001b[38;5;129;01mis\u001b[39;00m \u001b[38;5;28;01mNone\u001b[39;00m \u001b[38;5;129;01mand\u001b[39;00m parse_float \u001b[38;5;129;01mis\u001b[39;00m \u001b[38;5;28;01mNone\u001b[39;00m \u001b[38;5;129;01mand\u001b[39;00m\n\u001b[0;32m    345\u001b[0m         parse_constant \u001b[38;5;129;01mis\u001b[39;00m \u001b[38;5;28;01mNone\u001b[39;00m \u001b[38;5;129;01mand\u001b[39;00m object_pairs_hook \u001b[38;5;129;01mis\u001b[39;00m \u001b[38;5;28;01mNone\u001b[39;00m \u001b[38;5;129;01mand\u001b[39;00m \u001b[38;5;129;01mnot\u001b[39;00m kw):\n\u001b[1;32m--> 346\u001b[0m     \u001b[38;5;28;01mreturn\u001b[39;00m _default_decoder\u001b[38;5;241m.\u001b[39mdecode(s)\n\u001b[0;32m    347\u001b[0m \u001b[38;5;28;01mif\u001b[39;00m \u001b[38;5;28mcls\u001b[39m \u001b[38;5;129;01mis\u001b[39;00m \u001b[38;5;28;01mNone\u001b[39;00m:\n",
      "File \u001b[1;32m~\\anaconda3\\Lib\\json\\decoder.py:337\u001b[0m, in \u001b[0;36mJSONDecoder.decode\u001b[1;34m(self, s, _w)\u001b[0m\n\u001b[0;32m    333\u001b[0m \u001b[38;5;250m\u001b[39m\u001b[38;5;124;03m\"\"\"Return the Python representation of ``s`` (a ``str`` instance\u001b[39;00m\n\u001b[0;32m    334\u001b[0m \u001b[38;5;124;03mcontaining a JSON document).\u001b[39;00m\n\u001b[0;32m    335\u001b[0m \n\u001b[0;32m    336\u001b[0m \u001b[38;5;124;03m\"\"\"\u001b[39;00m\n\u001b[1;32m--> 337\u001b[0m obj, end \u001b[38;5;241m=\u001b[39m \u001b[38;5;28mself\u001b[39m\u001b[38;5;241m.\u001b[39mraw_decode(s, idx\u001b[38;5;241m=\u001b[39m_w(s, \u001b[38;5;241m0\u001b[39m)\u001b[38;5;241m.\u001b[39mend())\n\u001b[0;32m    338\u001b[0m end \u001b[38;5;241m=\u001b[39m _w(s, end)\u001b[38;5;241m.\u001b[39mend()\n",
      "File \u001b[1;32m~\\anaconda3\\Lib\\json\\decoder.py:355\u001b[0m, in \u001b[0;36mJSONDecoder.raw_decode\u001b[1;34m(self, s, idx)\u001b[0m\n\u001b[0;32m    354\u001b[0m \u001b[38;5;28;01mexcept\u001b[39;00m \u001b[38;5;167;01mStopIteration\u001b[39;00m \u001b[38;5;28;01mas\u001b[39;00m err:\n\u001b[1;32m--> 355\u001b[0m     \u001b[38;5;28;01mraise\u001b[39;00m JSONDecodeError(\u001b[38;5;124m\"\u001b[39m\u001b[38;5;124mExpecting value\u001b[39m\u001b[38;5;124m\"\u001b[39m, s, err\u001b[38;5;241m.\u001b[39mvalue) \u001b[38;5;28;01mfrom\u001b[39;00m \u001b[38;5;28;01mNone\u001b[39;00m\n\u001b[0;32m    356\u001b[0m \u001b[38;5;28;01mreturn\u001b[39;00m obj, end\n",
      "\u001b[1;31mJSONDecodeError\u001b[0m: Expecting value: line 1 column 1 (char 0)",
      "\nDuring handling of the above exception, another exception occurred:\n",
      "\u001b[1;31mJSONDecodeError\u001b[0m                           Traceback (most recent call last)",
      "Cell \u001b[1;32mIn[15], line 21\u001b[0m\n\u001b[0;32m     18\u001b[0m \u001b[38;5;66;03m# Send GET request to fetch data from USITC\u001b[39;00m\n\u001b[0;32m     19\u001b[0m response \u001b[38;5;241m=\u001b[39m requests\u001b[38;5;241m.\u001b[39mget(api_url, params\u001b[38;5;241m=\u001b[39mparams)\n\u001b[1;32m---> 21\u001b[0m data \u001b[38;5;241m=\u001b[39m response\u001b[38;5;241m.\u001b[39mjson()\n",
      "File \u001b[1;32m~\\anaconda3\\Lib\\site-packages\\requests\\models.py:978\u001b[0m, in \u001b[0;36mResponse.json\u001b[1;34m(self, **kwargs)\u001b[0m\n\u001b[0;32m    974\u001b[0m     \u001b[38;5;28;01mreturn\u001b[39;00m complexjson\u001b[38;5;241m.\u001b[39mloads(\u001b[38;5;28mself\u001b[39m\u001b[38;5;241m.\u001b[39mtext, \u001b[38;5;241m*\u001b[39m\u001b[38;5;241m*\u001b[39mkwargs)\n\u001b[0;32m    975\u001b[0m \u001b[38;5;28;01mexcept\u001b[39;00m JSONDecodeError \u001b[38;5;28;01mas\u001b[39;00m e:\n\u001b[0;32m    976\u001b[0m     \u001b[38;5;66;03m# Catch JSON-related errors and raise as requests.JSONDecodeError\u001b[39;00m\n\u001b[0;32m    977\u001b[0m     \u001b[38;5;66;03m# This aliases json.JSONDecodeError and simplejson.JSONDecodeError\u001b[39;00m\n\u001b[1;32m--> 978\u001b[0m     \u001b[38;5;28;01mraise\u001b[39;00m RequestsJSONDecodeError(e\u001b[38;5;241m.\u001b[39mmsg, e\u001b[38;5;241m.\u001b[39mdoc, e\u001b[38;5;241m.\u001b[39mpos)\n",
      "\u001b[1;31mJSONDecodeError\u001b[0m: Expecting value: line 1 column 1 (char 0)"
     ]
    }
   ],
   "source": [
    "import requests\n",
    "import pandas as pd\n",
    "\n",
    "# USITC DataWeb API URL\n",
    "api_url = \"https://dataweb.usitc.gov/api/v1/data\"\n",
    "\n",
    "# Example parameters to get tariff data (ensure these are valid based on the USITC API docs)\n",
    "params = {\n",
    "    \"get\": \"TradeData\",\n",
    "    \"time\": \"2000-2020\",  # Example: Fetch data from 2000 to 2020\n",
    "    \"reporter\": \"USA\",  # US as the reporting country\n",
    "    \"partner\": \"WORLD\",  # World as the trade partner\n",
    "    \"measure\": \"DUTY\",  # Tariff Measure\n",
    "    \"format\": \"json\"  # Request data in JSON format\n",
    "}\n",
    "\n",
    "\n",
    "# Send GET request to fetch data from USITC\n",
    "response = requests.get(api_url, params=params)\n",
    "\n",
    "data = response.json()\n",
    "\n",
    "\n"
   ]
  },
  {
   "cell_type": "code",
   "execution_count": 3,
   "id": "6fc9ca50-1b20-4077-9d89-4aa0ee51b89b",
   "metadata": {},
   "outputs": [
    {
     "name": "stderr",
     "output_type": "stream",
     "text": [
      "C:\\Users\\kylel\\anaconda3\\Lib\\site-packages\\urllib3\\connectionpool.py:1099: InsecureRequestWarning: Unverified HTTPS request is being made to host 'dataweb.usitc.gov'. Adding certificate verification is strongly advised. See: https://urllib3.readthedocs.io/en/latest/advanced-usage.html#tls-warnings\n",
      "  warnings.warn(\n"
     ]
    },
    {
     "name": "stdout",
     "output_type": "stream",
     "text": [
      "JSON Decode Error: Expecting value: line 1 column 1 (char 0)\n",
      "Raw Response: <!doctype html>\n",
      "<html lang=\"en\" data-beasties-container>\n",
      "  <head>\n",
      "    <meta charset=\"utf-8\">\n",
      "    <title>DataWeb</title>\n",
      "    <base href=\"/\">\n",
      "    <meta name=\"viewport\" content=\"width=device-width, initial-scale=1\">\n",
      "    <meta name=\"theme-color\" content=\"#005ea2\">\n",
      "    <link rel=\"icon\" href=\"/favicon.ico\" sizes=\"48x48\">\n",
      "    <link rel=\"icon\" href=\"/favicon.svg\" sizes=\"any\" type=\"image/svg+xml\">\n",
      "    <link rel=\"apple-touch-icon\" href=\"/apple-touch-icon.png\">\n",
      "    <link rel=\"mask-icon\" href=\"/safari-pinned-tab.svg\" color=\"#005ea2\">\n",
      "    <link rel=\"manifest\" href=\"/site.webmanifest\">\n",
      "  <style>@charset \"UTF-8\";body,html{font-family:SourceSans3VF,system,-apple-system,San Francisco,Robot,Segoe UI,Helvetica Neue,Lucida Grande,sans-serif!important;height:100%}html{line-height:1.15;-webkit-text-size-adjust:100%}body{margin:0}@font-face{font-family:SourceSans3VF;font-style:normal;font-weight:100;font-display:fallback;src:url(/assets/fonts/source-sans-pro/source-sans-pro.woff2) format(\"woff2\")}@font-face{font-family:SourceSans3VF;font-style:normal;font-weight:200;font-display:fallback;src:url(/assets/fonts/source-sans-pro/source-sans-pro.woff2) format(\"woff2\")}@font-face{font-family:SourceSans3VF;font-style:normal;font-weight:300;font-display:fallback;src:url(/assets/fonts/source-sans-pro/source-sans-pro.woff2) format(\"woff2\")}@font-face{font-family:SourceSans3VF;font-style:normal;font-weight:400;font-display:fallback;src:url(/assets/fonts/source-sans-pro/source-sans-pro.woff2) format(\"woff2\")}@font-face{font-family:SourceSans3VF;font-style:normal;font-weight:500;font-display:fallback;src:url(/assets/fonts/source-sans-pro/source-sans-pro.woff2) format(\"woff2\")}@font-face{font-family:SourceSans3VF;font-style:normal;font-weight:600;font-display:fallback;src:url(/assets/fonts/source-sans-pro/source-sans-pro.woff2) format(\"woff2\")}@font-face{font-family:SourceSans3VF;font-style:normal;font-weight:700;font-display:fallback;src:url(/assets/fonts/source-sans-pro/source-sans-pro.woff2) format(\"woff2\")}@font-face{font-family:SourceSans3VF;font-style:normal;font-weight:800;font-display:fallback;src:url(/assets/fonts/source-sans-pro/source-sans-pro.woff2) format(\"woff2\")}@font-face{font-family:SourceSans3VF;font-style:normal;font-weight:900;font-display:fallback;src:url(/assets/fonts/source-sans-pro/source-sans-pro.woff2) format(\"woff2\")}@font-face{font-family:SourceSans3VF;font-style:italic;font-weight:100;font-display:fallback;src:url(/assets/fonts/source-sans-pro/source-sans-pro-italic.woff2) format(\"woff2\")}@font-face{font-family:SourceSans3VF;font-style:italic;font-weight:200;font-display:fallback;src:url(/assets/fonts/source-sans-pro/source-sans-pro-italic.woff2) format(\"woff2\")}@font-face{font-family:SourceSans3VF;font-style:italic;font-weight:300;font-display:fallback;src:url(/assets/fonts/source-sans-pro/source-sans-pro-italic.woff2) format(\"woff2\")}@font-face{font-family:SourceSans3VF;font-style:italic;font-weight:400;font-display:fallback;src:url(/assets/fonts/source-sans-pro/source-sans-pro-italic.woff2) format(\"woff2\")}@font-face{font-family:SourceSans3VF;font-style:italic;font-weight:500;font-display:fallback;src:url(/assets/fonts/source-sans-pro/source-sans-pro-italic.woff2) format(\"woff2\")}@font-face{font-family:SourceSans3VF;font-style:italic;font-weight:600;font-display:fallback;src:url(/assets/fonts/source-sans-pro/source-sans-pro-italic.woff2) format(\"woff2\")}@font-face{font-family:SourceSans3VF;font-style:italic;font-weight:700;font-display:fallback;src:url(/assets/fonts/source-sans-pro/source-sans-pro-italic.woff2) format(\"woff2\")}@font-face{font-family:SourceSans3VF;font-style:italic;font-weight:800;font-display:fallback;src:url(/assets/fonts/source-sans-pro/source-sans-pro-italic.woff2) format(\"woff2\")}@font-face{font-family:SourceSans3VF;font-style:italic;font-weight:900;font-display:fallback;src:url(/assets/fonts/source-sans-pro/source-sans-pro-italic.woff2) format(\"woff2\")}body{color:#1b1b1b;background-color:#fff;overflow-x:hidden}[href]:focus{outline:.25rem solid #2491ff;outline-offset:0rem}html{box-sizing:border-box}*,*:before,*:after{box-sizing:inherit}html{font-feature-settings:\"kern\" 1;font-kerning:normal;font-family:SourceSans3VF,system,-apple-system,San Francisco,Robot,Segoe UI,Helvetica Neue,Lucida Grande,sans-serif;font-size:100%}</style><link rel=\"stylesheet\" href=\"styles-SLAZXQJ6.css\" media=\"print\" onload=\"this.media='all'\"><noscript><link rel=\"stylesheet\" href=\"styles-SLAZXQJ6.css\"></noscript>\n",
      "                              <script>!function(e){var n=\"https://s.go-mpulse.net/boomerang/\";if(\"False\"==\"True\")e.BOOMR_config=e.BOOMR_config||{},e.BOOMR_config.PageParams=e.BOOMR_config.PageParams||{},e.BOOMR_config.PageParams.pci=!0,n=\"https://s2.go-mpulse.net/boomerang/\";if(window.BOOMR_API_key=\"LNR7S-93L3B-RUKWS-35NAM-RMPLA\",function(){function e(){if(!o){var e=document.createElement(\"script\");e.id=\"boomr-scr-as\",e.src=window.BOOMR.url,e.async=!0,i.parentNode.appendChild(e),o=!0}}function t(e){o=!0;var n,t,a,r,d=document,O=window;if(window.BOOMR.snippetMethod=e?\"if\":\"i\",t=function(e,n){var t=d.createElement(\"script\");t.id=n||\"boomr-if-as\",t.src=window.BOOMR.url,BOOMR_lstart=(new Date).getTime(),e=e||d.body,e.appendChild(t)},!window.addEventListener&&window.attachEvent&&navigator.userAgent.match(/MSIE [67]\\./))return window.BOOMR.snippetMethod=\"s\",void t(i.parentNode,\"boomr-async\");a=document.createElement(\"IFRAME\"),a.src=\"about:blank\",a.title=\"\",a.role=\"presentation\",a.loading=\"eager\",r=(a.frameElement||a).style,r.width=0,r.height=0,r.border=0,r.display=\"none\",i.parentNode.appendChild(a);try{O=a.contentWindow,d=O.document.open()}catch(_){n=document.domain,a.src=\"javascript:var d=document.open();d.domain='\"+n+\"';void(0);\",O=a.contentWindow,d=O.document.open()}if(n)d._boomrl=function(){this.domain=n,t()},d.write(\"<bo\"+\"dy onload='document._boomrl();'>\");else if(O._boomrl=function(){t()},O.addEventListener)O.addEventListener(\"load\",O._boomrl,!1);else if(O.attachEvent)O.attachEvent(\"onload\",O._boomrl);d.close()}function a(e){window.BOOMR_onload=e&&e.timeStamp||(new Date).getTime()}if(!window.BOOMR||!window.BOOMR.version&&!window.BOOMR.snippetExecuted){window.BOOMR=window.BOOMR||{},window.BOOMR.snippetStart=(new Date).getTime(),window.BOOMR.snippetExecuted=!0,window.BOOMR.snippetVersion=12,window.BOOMR.url=n+\"LNR7S-93L3B-RUKWS-35NAM-RMPLA\";var i=document.currentScript||document.getElementsByTagName(\"script\")[0],o=!1,r=document.createElement(\"link\");if(r.relList&&\"function\"==typeof r.relList.supports&&r.relList.supports(\"preload\")&&\"as\"in r)window.BOOMR.snippetMethod=\"p\",r.href=window.BOOMR.url,r.rel=\"preload\",r.as=\"script\",r.addEventListener(\"load\",e),r.addEventListener(\"error\",function(){t(!0)}),setTimeout(function(){if(!o)t(!0)},3e3),BOOMR_lstart=(new Date).getTime(),i.parentNode.appendChild(r);else t(!1);if(window.addEventListener)window.addEventListener(\"load\",a,!1);else if(window.attachEvent)window.attachEvent(\"onload\",a)}}(),\"\".length>0)if(e&&\"performance\"in e&&e.performance&&\"function\"==typeof e.performance.setResourceTimingBufferSize)e.performance.setResourceTimingBufferSize();!function(){if(BOOMR=e.BOOMR||{},BOOMR.plugins=BOOMR.plugins||{},!BOOMR.plugins.AK){var n=\"\"==\"true\"?1:0,t=\"\",a=\"eyaeqcbq2cuqajqacqnzaaaaabt5rxci-f-7f784896d-clienttons-s.akamaihd.net\",i=\"false\"==\"true\"?2:1,o={\"ak.v\":\"39\",\"ak.cp\":\"1463445\",\"ak.ai\":parseInt(\"911155\",10),\"ak.ol\":\"0\",\"ak.cr\":9,\"ak.ipv\":6,\"ak.proto\":\"http/1.1\",\"ak.rid\":\"1a232a16\",\"ak.r\":34805,\"ak.a2\":n,\"ak.m\":\"\",\"ak.n\":\"essl\",\"ak.bpcip\":\"2600:4808:30d0:a900::\",\"ak.cport\":51634,\"ak.gh\":\"184.51.148.199\",\"ak.quicv\":\"\",\"ak.tlsv\":\"tls1.3\",\"ak.0rtt\":\"\",\"ak.0rtt.ed\":\"\",\"ak.csrc\":\"-\",\"ak.acc\":\"reno\",\"ak.t\":\"1742265416\",\"ak.ak\":\"hOBiQwZUYzCg5VSAfCLimQ==BNtF/fOGmfT1Ac7oVXnGs2JywsR7uxj/K3tLcOe7qNxAOvexnOKIBW+k9RHCjM2B+XwJDV/T4zyMcuhn40+pOwD4ffae2IgiYsF2aJLFIj1CYptbL1gud8ib0LQ/kcCcH8p3yl4YYXCtj8hPLxqhBm1hRQ32/sMlD76Mh/0gLkJrKnliwSoHQ/cEIzMwjE6E6m5mnrN82DTMugiYWWuyOKCEYG9+PWeyrnq6tvTLdBHsbC3sf0HQCv2Br5YAYsTI2A2AKwnhciDJqocL/ZGcQ6WphPm4+HFbJUnKS4Q1qZFIhDxc1QEuruSrc1MWs4NrQUMPBnxlpgNAaL99DpQNaSxgdnTmtUIMoKBv/bQRc8d2jS7ecE5Vl1nEHiFQpiyPf6s265k0FhGGiQqYC6ld/EhOb0lIJO4GiOGtROp0h4I=\",\"ak.pv\":\"10\",\"ak.dpoabenc\":\"\",\"ak.tf\":i};if(\"\"!==t)o[\"ak.ruds\"]=t;var r={i:!1,av:function(n){var t=\"http.initiator\";if(n&&(!n[t]||\"spa_hard\"===n[t]))o[\"ak.feo\"]=void 0!==e.aFeoApplied?1:0,BOOMR.addVar(o)},rv:function(){var e=[\"ak.bpcip\",\"ak.cport\",\"ak.cr\",\"ak.csrc\",\"ak.gh\",\"ak.ipv\",\"ak.m\",\"ak.n\",\"ak.ol\",\"ak.proto\",\"ak.quicv\",\"ak.tlsv\",\"ak.0rtt\",\"ak.0rtt.ed\",\"ak.r\",\"ak.acc\",\"ak.t\",\"ak.tf\"];BOOMR.removeVar(e)}};BOOMR.plugins.AK={akVars:o,akDNSPreFetchDomain:a,init:function(){if(!r.i){var e=BOOMR.subscribe;e(\"before_beacon\",r.av,null,null),e(\"onbeacon\",r.rv,null,null),r.i=!0}return this},is_complete:function(){return!0}}}}()}(window);</script></head>\n",
      "  <body>\n",
      "    <dw-root></dw-root>\n",
      "  <link rel=\"modulepreload\" href=\"chunk-BSJXOU2W.js\"><script src=\"polyfills-FFHMD2TL.js\" type=\"module\"></script><script src=\"main-EOEXMHNM.js\" type=\"module\"></script></body>\n",
      "</html>\n",
      "\n"
     ]
    }
   ],
   "source": [
    "response = requests.get(api_url, params=params, verify=False)\n",
    "\n",
    "if response.status_code == 200:\n",
    "    try:\n",
    "        data = response.json()\n",
    "        print(data)\n",
    "    except requests.exceptions.JSONDecodeError as e:\n",
    "        print(f\"JSON Decode Error: {e}\")\n",
    "        print(f\"Raw Response: {response.text}\")\n",
    "else:\n",
    "    print(f\"Request failed with status code: {response.status_code}\")\n",
    "    print(response.text)  # Print the actual response"
   ]
  },
  {
   "cell_type": "code",
   "execution_count": 5,
   "id": "1cc3874f-6dc6-4df2-9d32-96910563476d",
   "metadata": {},
   "outputs": [
    {
     "name": "stdout",
     "output_type": "stream",
     "text": [
      "<!doctype html>\n",
      "<html lang=\"en\" data-beasties-container>\n",
      "  <head>\n",
      "    <meta charset=\"utf-8\">\n",
      "    <title>DataWeb</title>\n",
      "    <base href=\"/\">\n",
      "    <meta name=\"viewport\" content=\"width=device-width, initial-scale=1\">\n",
      "    <meta name=\"theme-color\" content=\"#005ea2\">\n",
      "    <link rel=\"icon\" href=\"/favicon.ico\" sizes=\"48x48\">\n",
      "    <link rel=\"icon\" href=\"/favicon.svg\" sizes=\"any\" type=\"image/svg+xml\">\n",
      "    <link rel=\"apple-touch-icon\" href=\"/apple-touch-icon.png\">\n",
      "    <link rel=\"mask-icon\" href=\"/safari-pinned-tab.svg\" color=\"#005ea2\">\n",
      "    <link rel=\"manifest\" href=\"/site.webmanifest\">\n",
      "  <style>@charset \"UTF-8\";body,html{font-family:SourceSans3VF,system,-apple-system,San Francisco,Robot,Segoe UI,Helvetica Neue,Lucida Grande,sans-serif!important;height:100%}html{line-height:1.15;-webkit-text-size-adjust:100%}body{margin:0}@font-face{font-family:SourceSans3VF;font-style:normal;font-weight:100;font-display:fallback;src:url(/assets/fonts/source-sans-pro/source-sans-pro.woff2) format(\"woff2\")}@font-face{font-family:SourceSans3VF;font-style:normal;font-weight:200;font-display:fallback;src:url(/assets/fonts/source-sans-pro/source-sans-pro.woff2) format(\"woff2\")}@font-face{font-family:SourceSans3VF;font-style:normal;font-weight:300;font-display:fallback;src:url(/assets/fonts/source-sans-pro/source-sans-pro.woff2) format(\"woff2\")}@font-face{font-family:SourceSans3VF;font-style:normal;font-weight:400;font-display:fallback;src:url(/assets/fonts/source-sans-pro/source-sans-pro.woff2) format(\"woff2\")}@font-face{font-family:SourceSans3VF;font-style:normal;font-weight:500;font-display:fallback;src:url(/assets/fonts/source-sans-pro/source-sans-pro.woff2) format(\"woff2\")}@font-face{font-family:SourceSans3VF;font-style:normal;font-weight:600;font-display:fallback;src:url(/assets/fonts/source-sans-pro/source-sans-pro.woff2) format(\"woff2\")}@font-face{font-family:SourceSans3VF;font-style:normal;font-weight:700;font-display:fallback;src:url(/assets/fonts/source-sans-pro/source-sans-pro.woff2) format(\"woff2\")}@font-face{font-family:SourceSans3VF;font-style:normal;font-weight:800;font-display:fallback;src:url(/assets/fonts/source-sans-pro/source-sans-pro.woff2) format(\"woff2\")}@font-face{font-family:SourceSans3VF;font-style:normal;font-weight:900;font-display:fallback;src:url(/assets/fonts/source-sans-pro/source-sans-pro.woff2) format(\"woff2\")}@font-face{font-family:SourceSans3VF;font-style:italic;font-weight:100;font-display:fallback;src:url(/assets/fonts/source-sans-pro/source-sans-pro-italic.woff2) format(\"woff2\")}@font-face{font-family:SourceSans3VF;font-style:italic;font-weight:200;font-display:fallback;src:url(/assets/fonts/source-sans-pro/source-sans-pro-italic.woff2) format(\"woff2\")}@font-face{font-family:SourceSans3VF;font-style:italic;font-weight:300;font-display:fallback;src:url(/assets/fonts/source-sans-pro/source-sans-pro-italic.woff2) format(\"woff2\")}@font-face{font-family:SourceSans3VF;font-style:italic;font-weight:400;font-display:fallback;src:url(/assets/fonts/source-sans-pro/source-sans-pro-italic.woff2) format(\"woff2\")}@font-face{font-family:SourceSans3VF;font-style:italic;font-weight:500;font-display:fallback;src:url(/assets/fonts/source-sans-pro/source-sans-pro-italic.woff2) format(\"woff2\")}@font-face{font-family:SourceSans3VF;font-style:italic;font-weight:600;font-display:fallback;src:url(/assets/fonts/source-sans-pro/source-sans-pro-italic.woff2) format(\"woff2\")}@font-face{font-family:SourceSans3VF;font-style:italic;font-weight:700;font-display:fallback;src:url(/assets/fonts/source-sans-pro/source-sans-pro-italic.woff2) format(\"woff2\")}@font-face{font-family:SourceSans3VF;font-style:italic;font-weight:800;font-display:fallback;src:url(/assets/fonts/source-sans-pro/source-sans-pro-italic.woff2) format(\"woff2\")}@font-face{font-family:SourceSans3VF;font-style:italic;font-weight:900;font-display:fallback;src:url(/assets/fonts/source-sans-pro/source-sans-pro-italic.woff2) format(\"woff2\")}body{color:#1b1b1b;background-color:#fff;overflow-x:hidden}[href]:focus{outline:.25rem solid #2491ff;outline-offset:0rem}html{box-sizing:border-box}*,*:before,*:after{box-sizing:inherit}html{font-feature-settings:\"kern\" 1;font-kerning:normal;font-family:SourceSans3VF,system,-apple-system,San Francisco,Robot,Segoe UI,Helvetica Neue,Lucida Grande,sans-serif;font-size:100%}</style><link rel=\"stylesheet\" href=\"styles-SLAZXQJ6.css\" media=\"print\" onload=\"this.media='all'\"><noscript><link rel=\"stylesheet\" href=\"styles-SLAZXQJ6.css\"></noscript>\n",
      "                              <script>!function(e){var n=\"https://s.go-mpulse.net/boomerang/\";if(\"False\"==\"True\")e.BOOMR_config=e.BOOMR_config||{},e.BOOMR_config.PageParams=e.BOOMR_config.PageParams||{},e.BOOMR_config.PageParams.pci=!0,n=\"https://s2.go-mpulse.net/boomerang/\";if(window.BOOMR_API_key=\"LNR7S-93L3B-RUKWS-35NAM-RMPLA\",function(){function e(){if(!o){var e=document.createElement(\"script\");e.id=\"boomr-scr-as\",e.src=window.BOOMR.url,e.async=!0,i.parentNode.appendChild(e),o=!0}}function t(e){o=!0;var n,t,a,r,d=document,O=window;if(window.BOOMR.snippetMethod=e?\"if\":\"i\",t=function(e,n){var t=d.createElement(\"script\");t.id=n||\"boomr-if-as\",t.src=window.BOOMR.url,BOOMR_lstart=(new Date).getTime(),e=e||d.body,e.appendChild(t)},!window.addEventListener&&window.attachEvent&&navigator.userAgent.match(/MSIE [67]\\./))return window.BOOMR.snippetMethod=\"s\",void t(i.parentNode,\"boomr-async\");a=document.createElement(\"IFRAME\"),a.src=\"about:blank\",a.title=\"\",a.role=\"presentation\",a.loading=\"eager\",r=(a.frameElement||a).style,r.width=0,r.height=0,r.border=0,r.display=\"none\",i.parentNode.appendChild(a);try{O=a.contentWindow,d=O.document.open()}catch(_){n=document.domain,a.src=\"javascript:var d=document.open();d.domain='\"+n+\"';void(0);\",O=a.contentWindow,d=O.document.open()}if(n)d._boomrl=function(){this.domain=n,t()},d.write(\"<bo\"+\"dy onload='document._boomrl();'>\");else if(O._boomrl=function(){t()},O.addEventListener)O.addEventListener(\"load\",O._boomrl,!1);else if(O.attachEvent)O.attachEvent(\"onload\",O._boomrl);d.close()}function a(e){window.BOOMR_onload=e&&e.timeStamp||(new Date).getTime()}if(!window.BOOMR||!window.BOOMR.version&&!window.BOOMR.snippetExecuted){window.BOOMR=window.BOOMR||{},window.BOOMR.snippetStart=(new Date).getTime(),window.BOOMR.snippetExecuted=!0,window.BOOMR.snippetVersion=12,window.BOOMR.url=n+\"LNR7S-93L3B-RUKWS-35NAM-RMPLA\";var i=document.currentScript||document.getElementsByTagName(\"script\")[0],o=!1,r=document.createElement(\"link\");if(r.relList&&\"function\"==typeof r.relList.supports&&r.relList.supports(\"preload\")&&\"as\"in r)window.BOOMR.snippetMethod=\"p\",r.href=window.BOOMR.url,r.rel=\"preload\",r.as=\"script\",r.addEventListener(\"load\",e),r.addEventListener(\"error\",function(){t(!0)}),setTimeout(function(){if(!o)t(!0)},3e3),BOOMR_lstart=(new Date).getTime(),i.parentNode.appendChild(r);else t(!1);if(window.addEventListener)window.addEventListener(\"load\",a,!1);else if(window.attachEvent)window.attachEvent(\"onload\",a)}}(),\"\".length>0)if(e&&\"performance\"in e&&e.performance&&\"function\"==typeof e.performance.setResourceTimingBufferSize)e.performance.setResourceTimingBufferSize();!function(){if(BOOMR=e.BOOMR||{},BOOMR.plugins=BOOMR.plugins||{},!BOOMR.plugins.AK){var n=\"\"==\"true\"?1:0,t=\"\",a=\"eyaeqcbq2cuqajqacqajaaaaabt5rxd6-f-5addc838f-clienttons-s.akamaihd.net\",i=\"false\"==\"true\"?2:1,o={\"ak.v\":\"39\",\"ak.cp\":\"1463445\",\"ak.ai\":parseInt(\"911155\",10),\"ak.ol\":\"0\",\"ak.cr\":12,\"ak.ipv\":6,\"ak.proto\":\"http/1.1\",\"ak.rid\":\"301578dc\",\"ak.r\":35595,\"ak.a2\":n,\"ak.m\":\"\",\"ak.n\":\"essl\",\"ak.bpcip\":\"2600:4808:30d0:a900::\",\"ak.cport\":51662,\"ak.gh\":\"104.126.116.29\",\"ak.quicv\":\"\",\"ak.tlsv\":\"tls1.3\",\"ak.0rtt\":\"\",\"ak.0rtt.ed\":\"\",\"ak.csrc\":\"-\",\"ak.acc\":\"reno\",\"ak.t\":\"1742265470\",\"ak.ak\":\"hOBiQwZUYzCg5VSAfCLimQ==0yUPULxLvngGLoc8EY1fcrr5vbJxujc1k1yJkDIJ9+8GmVxcNc8jlJllH4sJMUdYlxZcnG57NJOvrbwCfHHcG4H2Tn5HN+FHR3WgYEETmJZUaZ14Gef7JeoRCGim3Ub3M6S9CG+Duu4FiddX8nudbikiVQOu41MPOg/E5CKK3YHMgG40XEzvV5d9PTXNXC/4yd/UwlLAHWhg53jpPGNLSDzax6Bb5zlzBl2ANicsyi5yDMGZlaeubOa6P2DAoCwt6Vl8+ZjtYA28TB2vhV9xIFHnHmSJKaaa2BdhSnuwRxLVh0ZoyKcK7Z039woifBHNv80v+nTcdU6+TJciSt83beNUiOckPFdmj7Y+OCdIAEJldVtEedYujY6pGuDiFPuZoMgSz6CrH4ERx6vqMd0EuVI+qrYi+NYnkphUBlsX4BA=\",\"ak.pv\":\"10\",\"ak.dpoabenc\":\"\",\"ak.tf\":i};if(\"\"!==t)o[\"ak.ruds\"]=t;var r={i:!1,av:function(n){var t=\"http.initiator\";if(n&&(!n[t]||\"spa_hard\"===n[t]))o[\"ak.feo\"]=void 0!==e.aFeoApplied?1:0,BOOMR.addVar(o)},rv:function(){var e=[\"ak.bpcip\",\"ak.cport\",\"ak.cr\",\"ak.csrc\",\"ak.gh\",\"ak.ipv\",\"ak.m\",\"ak.n\",\"ak.ol\",\"ak.proto\",\"ak.quicv\",\"ak.tlsv\",\"ak.0rtt\",\"ak.0rtt.ed\",\"ak.r\",\"ak.acc\",\"ak.t\",\"ak.tf\"];BOOMR.removeVar(e)}};BOOMR.plugins.AK={akVars:o,akDNSPreFetchDomain:a,init:function(){if(!r.i){var e=BOOMR.subscribe;e(\"before_beacon\",r.av,null,null),e(\"onbeacon\",r.rv,null,null),r.i=!0}return this},is_complete:function(){return!0}}}}()}(window);</script></head>\n",
      "  <body>\n",
      "    <dw-root></dw-root>\n",
      "  <link rel=\"modulepreload\" href=\"chunk-BSJXOU2W.js\"><script src=\"polyfills-FFHMD2TL.js\" type=\"module\"></script><script src=\"main-EOEXMHNM.js\" type=\"module\"></script></body>\n",
      "</html>\n",
      "\n"
     ]
    }
   ],
   "source": [
    "import certifi\n",
    "\n",
    "response = requests.get(api_url, params=params, verify=certifi.where())\n",
    "print(response.text)"
   ]
  },
  {
   "cell_type": "code",
   "execution_count": 13,
   "id": "b265d820-eea4-4594-871d-b9e4c30884b6",
   "metadata": {},
   "outputs": [
    {
     "name": "stdout",
     "output_type": "stream",
     "text": [
      "<Response [200]>\n"
     ]
    }
   ],
   "source": [
    "# USITC DataWeb API URL\n",
    "api_url = \"https://dataweb.usitc.gov/api/v1/data\"\n",
    "\n",
    "# Example parameters to get tariff data (ensure these are valid based on the USITC API docs)\n",
    "params = {\n",
    "    \"get\": \"TradeData\",\n",
    "    \"time\": \"2000-2020\",  # Example: Fetch data from 2000 to 2020\n",
    "    \"reporter\": \"USA\",  # US as the reporting country\n",
    "    \"partner\": \"WORLD\",  # World as the trade partner\n",
    "    \"measure\": \"DUTY\",  # Tariff Measure\n",
    "    \"format\": \"json\"  # Request data in JSON format\n",
    "}\n",
    "\n",
    "# Send GET request to fetch data from USITC\n",
    "response = requests.get(api_url, params=params)\n",
    "\n",
    "print(response)\n"
   ]
  },
  {
   "cell_type": "code",
   "execution_count": 9,
   "id": "12bba1d1-d49b-4fba-9c48-b644fb7679ea",
   "metadata": {},
   "outputs": [
    {
     "name": "stdout",
     "output_type": "stream",
     "text": [
      "200 <!doctype html>\n",
      "<html lang=\"en\" data-beasties-container>\n",
      "  <head>\n",
      "    <meta charset=\"utf-8\">\n",
      "    <title>DataWeb</title>\n",
      "    <base href=\"/\">\n",
      "    <meta name=\"viewport\" content=\"width=device-width, initial-scale=1\">\n",
      "    <meta name=\"theme-color\" content=\"#005ea2\">\n",
      "    <link rel=\"icon\" href=\"/favicon.ico\" sizes=\"48x48\">\n",
      "    <link rel=\"icon\" href=\"/favicon.svg\" sizes=\"any\" type=\"image/svg+xml\">\n",
      "    <link rel=\"apple-touch-icon\" href=\"/apple-touch-icon.png\">\n",
      "    <link rel=\"mask-icon\" href=\"/safari-pinned-tab.svg\" color=\"#005ea2\">\n",
      "    <link rel=\"manifest\" href=\"/site.webmanifest\">\n",
      "  <style>@charset \"UTF-8\";body,html{font-family:SourceSans3VF,system,-apple-system,San Francisco,Robot,Segoe UI,Helvetica Neue,Lucida Grande,sans-serif!important;height:100%}html{line-height:1.15;-webkit-text-size-adjust:100%}body{margin:0}@font-face{font-family:SourceSans3VF;font-style:normal;font-weight:100;font-display:fallback;src:url(/assets/fonts/source-sans-pro/source-sans-pro.woff2) format(\"woff2\")}@font-face{font-family:SourceSans3VF;font-style:normal;font-weight:200;font-display:fallback;src:url(/assets/fonts/source-sans-pro/source-sans-pro.woff2) format(\"woff2\")}@font-face{font-family:SourceSans3VF;font-style:normal;font-weight:300;font-display:fallback;src:url(/assets/fonts/source-sans-pro/source-sans-pro.woff2) format(\"woff2\")}@font-face{font-family:SourceSans3VF;font-style:normal;font-weight:400;font-display:fallback;src:url(/assets/fonts/source-sans-pro/source-sans-pro.woff2) format(\"woff2\")}@font-face{font-family:SourceSans3VF;font-style:normal;font-weight:500;font-display:fallback;src:url(/assets/fonts/source-sans-pro/source-sans-pro.woff2) format(\"woff2\")}@font-face{font-family:SourceSans3VF;font-style:normal;font-weight:600;font-display:fallback;src:url(/assets/fonts/source-sans-pro/source-sans-pro.woff2) format(\"woff2\")}@font-face{font-family:SourceSans3VF;font-style:normal;font-weight:700;font-display:fallback;src:url(/assets/fonts/source-sans-pro/source-sans-pro.woff2) format(\"woff2\")}@font-face{font-family:SourceSans3VF;font-style:normal;font-weight:800;font-display:fallback;src:url(/assets/fonts/source-sans-pro/source-sans-pro.woff2) format(\"woff2\")}@font-face{font-family:SourceSans3VF;font-style:normal;font-weight:900;font-display:fallback;src:url(/assets/fonts/source-sans-pro/source-sans-pro.woff2) format(\"woff2\")}@font-face{font-family:SourceSans3VF;font-style:italic;font-weight:100;font-display:fallback;src:url(/assets/fonts/source-sans-pro/source-sans-pro-italic.woff2) format(\"woff2\")}@font-face{font-family:SourceSans3VF;font-style:italic;font-weight:200;font-display:fallback;src:url(/assets/fonts/source-sans-pro/source-sans-pro-italic.woff2) format(\"woff2\")}@font-face{font-family:SourceSans3VF;font-style:italic;font-weight:300;font-display:fallback;src:url(/assets/fonts/source-sans-pro/source-sans-pro-italic.woff2) format(\"woff2\")}@font-face{font-family:SourceSans3VF;font-style:italic;font-weight:400;font-display:fallback;src:url(/assets/fonts/source-sans-pro/source-sans-pro-italic.woff2) format(\"woff2\")}@font-face{font-family:SourceSans3VF;font-style:italic;font-weight:500;font-display:fallback;src:url(/assets/fonts/source-sans-pro/source-sans-pro-italic.woff2) format(\"woff2\")}@font-face{font-family:SourceSans3VF;font-style:italic;font-weight:600;font-display:fallback;src:url(/assets/fonts/source-sans-pro/source-sans-pro-italic.woff2) format(\"woff2\")}@font-face{font-family:SourceSans3VF;font-style:italic;font-weight:700;font-display:fallback;src:url(/assets/fonts/source-sans-pro/source-sans-pro-italic.woff2) format(\"woff2\")}@font-face{font-family:SourceSans3VF;font-style:italic;font-weight:800;font-display:fallback;src:url(/assets/fonts/source-sans-pro/source-sans-pro-italic.woff2) format(\"woff2\")}@font-face{font-family:SourceSans3VF;font-style:italic;font-weight:900;font-display:fallback;src:url(/assets/fonts/source-sans-pro/source-sans-pro-italic.woff2) format(\"woff2\")}body{color:#1b1b1b;background-color:#fff;overflow-x:hidden}[href]:focus{outline:.25rem solid #2491ff;outline-offset:0rem}html{box-sizing:border-box}*,*:before,*:after{box-sizing:inherit}html{font-feature-settings:\"kern\" 1;font-kerning:normal;font-family:SourceSans3VF,system,-apple-system,San Francisco,Robot,Segoe UI,Helvetica Neue,Lucida Grande,sans-serif;font-size:100%}</style><link rel=\"stylesheet\" href=\"styles-SLAZXQJ6.css\" media=\"print\" onload=\"this.media='all'\"><noscript><link rel=\"stylesheet\" href=\"styles-SLAZXQJ6.css\"></noscript>\n",
      "                              <script>!function(e){var n=\"https://s.go-mpulse.net/boomerang/\";if(\"False\"==\"True\")e.BOOMR_config=e.BOOMR_config||{},e.BOOMR_config.PageParams=e.BOOMR_config.PageParams||{},e.BOOMR_config.PageParams.pci=!0,n=\"https://s2.go-mpulse.net/boomerang/\";if(window.BOOMR_API_key=\"LNR7S-93L3B-RUKWS-35NAM-RMPLA\",function(){function e(){if(!o){var e=document.createElement(\"script\");e.id=\"boomr-scr-as\",e.src=window.BOOMR.url,e.async=!0,i.parentNode.appendChild(e),o=!0}}function t(e){o=!0;var n,t,a,r,d=document,O=window;if(window.BOOMR.snippetMethod=e?\"if\":\"i\",t=function(e,n){var t=d.createElement(\"script\");t.id=n||\"boomr-if-as\",t.src=window.BOOMR.url,BOOMR_lstart=(new Date).getTime(),e=e||d.body,e.appendChild(t)},!window.addEventListener&&window.attachEvent&&navigator.userAgent.match(/MSIE [67]\\./))return window.BOOMR.snippetMethod=\"s\",void t(i.parentNode,\"boomr-async\");a=document.createElement(\"IFRAME\"),a.src=\"about:blank\",a.title=\"\",a.role=\"presentation\",a.loading=\"eager\",r=(a.frameElement||a).style,r.width=0,r.height=0,r.border=0,r.display=\"none\",i.parentNode.appendChild(a);try{O=a.contentWindow,d=O.document.open()}catch(_){n=document.domain,a.src=\"javascript:var d=document.open();d.domain='\"+n+\"';void(0);\",O=a.contentWindow,d=O.document.open()}if(n)d._boomrl=function(){this.domain=n,t()},d.write(\"<bo\"+\"dy onload='document._boomrl();'>\");else if(O._boomrl=function(){t()},O.addEventListener)O.addEventListener(\"load\",O._boomrl,!1);else if(O.attachEvent)O.attachEvent(\"onload\",O._boomrl);d.close()}function a(e){window.BOOMR_onload=e&&e.timeStamp||(new Date).getTime()}if(!window.BOOMR||!window.BOOMR.version&&!window.BOOMR.snippetExecuted){window.BOOMR=window.BOOMR||{},window.BOOMR.snippetStart=(new Date).getTime(),window.BOOMR.snippetExecuted=!0,window.BOOMR.snippetVersion=12,window.BOOMR.url=n+\"LNR7S-93L3B-RUKWS-35NAM-RMPLA\";var i=document.currentScript||document.getElementsByTagName(\"script\")[0],o=!1,r=document.createElement(\"link\");if(r.relList&&\"function\"==typeof r.relList.supports&&r.relList.supports(\"preload\")&&\"as\"in r)window.BOOMR.snippetMethod=\"p\",r.href=window.BOOMR.url,r.rel=\"preload\",r.as=\"script\",r.addEventListener(\"load\",e),r.addEventListener(\"error\",function(){t(!0)}),setTimeout(function(){if(!o)t(!0)},3e3),BOOMR_lstart=(new Date).getTime(),i.parentNode.appendChild(r);else t(!1);if(window.addEventListener)window.addEventListener(\"load\",a,!1);else if(window.attachEvent)window.attachEvent(\"onload\",a)}}(),\"\".length>0)if(e&&\"performance\"in e&&e.performance&&\"function\"==typeof e.performance.setResourceTimingBufferSize)e.performance.setResourceTimingBufferSize();!function(){if(BOOMR=e.BOOMR||{},BOOMR.plugins=BOOMR.plugins||{},!BOOMR.plugins.AK){var n=\"\"==\"true\"?1:0,t=\"\",a=\"eyaeqcbq2cuqajqacqnzaaaaabt5rxjr-f-2e15caa66-clienttons-s.akamaihd.net\",i=\"false\"==\"true\"?2:1,o={\"ak.v\":\"39\",\"ak.cp\":\"1463445\",\"ak.ai\":parseInt(\"911155\",10),\"ak.ol\":\"0\",\"ak.cr\":9,\"ak.ipv\":6,\"ak.proto\":\"http/1.1\",\"ak.rid\":\"1a29f467\",\"ak.r\":34805,\"ak.a2\":n,\"ak.m\":\"dscb\",\"ak.n\":\"essl\",\"ak.bpcip\":\"2600:4808:30d0:a900::\",\"ak.cport\":51708,\"ak.gh\":\"184.51.148.199\",\"ak.quicv\":\"\",\"ak.tlsv\":\"tls1.3\",\"ak.0rtt\":\"\",\"ak.0rtt.ed\":\"\",\"ak.csrc\":\"-\",\"ak.acc\":\"reno\",\"ak.t\":\"1742265649\",\"ak.ak\":\"hOBiQwZUYzCg5VSAfCLimQ==YTVd7v/rGJUU6nQsLPK1g4M1heMEQZw7IC2K1a9qDpJH6LisfMUIMgUqlqsj6mq5OQnkbkD4gYxzUsOy2mTSXdM5Gq3PcOrrhakH8lsxeHn5jfM2d66r3XPcZAc4reW1SklBCb9qoBsNaaReX91XIQJZnx1NFf2f/ZxMhX/G2aa+morsoHPjv6cMeEgqGepti8Tt0Sr7CMDUT8IzD4Bf3bjpILViXsnGEpJ6cBqtT5gDoYsRW/4YPxTX8NHw/x2ZeoPBkomZDjnA+J8uwoEyeu6nY19CVQ3bl+7CSml096s3N5VuTzNI3tIfMY9LxWXJ3j/ti7z2T3sTFmYOP05u+NXhP4Pnch9UBdINac8m9IWXT7CuGY8RC1tQH62q0spICYDFGF0JY8OblBMuL9BaH+pqn+r16sUfCRWjNJKJJls=\",\"ak.pv\":\"10\",\"ak.dpoabenc\":\"\",\"ak.tf\":i};if(\"\"!==t)o[\"ak.ruds\"]=t;var r={i:!1,av:function(n){var t=\"http.initiator\";if(n&&(!n[t]||\"spa_hard\"===n[t]))o[\"ak.feo\"]=void 0!==e.aFeoApplied?1:0,BOOMR.addVar(o)},rv:function(){var e=[\"ak.bpcip\",\"ak.cport\",\"ak.cr\",\"ak.csrc\",\"ak.gh\",\"ak.ipv\",\"ak.m\",\"ak.n\",\"ak.ol\",\"ak.proto\",\"ak.quicv\",\"ak.tlsv\",\"ak.0rtt\",\"ak.0rtt.ed\",\"ak.r\",\"ak.acc\",\"ak.t\",\"ak.tf\"];BOOMR.removeVar(e)}};BOOMR.plugins.AK={akVars:o,akDNSPreFetchDomain:a,init:function(){if(!r.i){var e=BOOMR.subscribe;e(\"before_beacon\",r.av,null,null),e(\"onbeacon\",r.rv,null,null),r.i=!0}return this},is_complete:function(){return!0}}}}()}(window);</script></head>\n",
      "  <body>\n",
      "    <dw-root></dw-root>\n",
      "  <link rel=\"modulepreload\" href=\"chunk-BSJXOU2W.js\"><script src=\"polyfills-FFHMD2TL.js\" type=\"module\"></script><script src=\"main-EOEXMHNM.js\" type=\"module\"></script></body>\n",
      "</html>\n",
      "\n"
     ]
    }
   ],
   "source": [
    "url = \"https://dataweb.usitc.gov/api/v1/data\"\n",
    "response = requests.get(url)\n",
    "print(response.status_code, response.text)"
   ]
  }
 ],
 "metadata": {
  "kernelspec": {
   "display_name": "Python [conda env:base] *",
   "language": "python",
   "name": "conda-base-py"
  },
  "language_info": {
   "codemirror_mode": {
    "name": "ipython",
    "version": 3
   },
   "file_extension": ".py",
   "mimetype": "text/x-python",
   "name": "python",
   "nbconvert_exporter": "python",
   "pygments_lexer": "ipython3",
   "version": "3.12.7"
  }
 },
 "nbformat": 4,
 "nbformat_minor": 5
}
